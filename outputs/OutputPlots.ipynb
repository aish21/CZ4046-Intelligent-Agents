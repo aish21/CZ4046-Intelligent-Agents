{
 "cells": [
  {
   "cell_type": "code",
   "execution_count": null,
   "metadata": {},
   "outputs": [],
   "source": [
    "%pip install matplotlib\n",
    "%pip install numpy\n",
    "%pip install pandas\n",
    "%pip install plotly"
   ]
  },
  {
   "cell_type": "code",
   "execution_count": null,
   "metadata": {},
   "outputs": [],
   "source": [
    "import matplotlib.pyplot as plt\n",
    "import numpy as np\n",
    "import pandas as pd\n",
    "import plotly.express as px\n",
    "import plotly.graph_objects as go"
   ]
  },
  {
   "cell_type": "code",
   "execution_count": null,
   "metadata": {},
   "outputs": [],
   "source": [
    "c_001 = pd.read_csv(\"value_iteration_outputs/c_0.01_outputs/value_iteration_utilities.csv\", header=None).transpose()\n",
    "c_01 = pd.read_csv(\"value_iteration_outputs/c_0.1_outputs/value_iteration_utilities.csv\", header=None).transpose()\n",
    "c_1 = pd.read_csv(\"value_iteration_outputs/c_1_outputs/value_iteration_utilities.csv\", header=None).transpose()\n",
    "c_5 = pd.read_csv(\"value_iteration_outputs/c_5_outputs/value_iteration_utilities.csv\", header=None).transpose()\n",
    "c_10 = pd.read_csv(\"value_iteration_outputs/c_10_outputs/value_iteration_utilities.csv\", header=None).transpose()\n",
    "c_20 = pd.read_csv(\"value_iteration_outputs/c_20_outputs/value_iteration_utilities.csv\", header=None).transpose()\n",
    "c_40 = pd.read_csv(\"value_iteration_outputs/c_40_outputs/value_iteration_utilities.csv\", header=None).transpose()\n",
    "c_80 = pd.read_csv(\"value_iteration_outputs/c_80_outputs/value_iteration_utilities.csv\", header=None).transpose()\n",
    "\n",
    "k_1 = pd.read_csv(\"policy_iteration_outputs/k_1_outputs/policy_iteration_utilities.csv\", header=None).transpose()\n",
    "k_5 = pd.read_csv(\"policy_iteration_outputs/k_5_outputs/policy_iteration_utilities.csv\", header=None).transpose()\n",
    "k_10 = pd.read_csv(\"policy_iteration_outputs/k_10_outputs/policy_iteration_utilities.csv\", header=None).transpose()\n",
    "k_20 = pd.read_csv(\"policy_iteration_outputs/k_20_outputs/policy_iteration_utilities.csv\", header=None).transpose()\n",
    "k_30 = pd.read_csv(\"policy_iteration_outputs/k_30_outputs/policy_iteration_utilities.csv\", header=None).transpose()\n",
    "k_40 = pd.read_csv(\"policy_iteration_outputs/k_40_outputs/policy_iteration_utilities.csv\", header=None).transpose()\n",
    "k_50 = pd.read_csv(\"policy_iteration_outputs/k_50_outputs/policy_iteration_utilities.csv\", header=None).transpose()\n",
    "k_80 = pd.read_csv(\"policy_iteration_outputs/k_80_outputs/policy_iteration_utilities.csv\", header=None).transpose()\n",
    "\n",
    "Complex_maze_value_2 = pd.read_csv(\"complex_maze/scaled2/complex_maze__value_utilities.csv\", header=None).transpose()\n",
    "Complex_maze_value_4 = pd.read_csv(\"complex_maze/scaled4/complex_maze__value_utilities.csv\", header=None).transpose()\n",
    "Complex_maze_value_10 = pd.read_csv(\"complex_maze/scaled10/complex_maze__value_utilities.csv\", header=None).transpose()\n",
    "\n",
    "Complex_maze_policy_2 = pd.read_csv(\"complex_maze/scaled2/complex_maze_policy_utilities.csv\", header=None).transpose()\n",
    "Complex_maze_policy_4 = pd.read_csv(\"complex_maze/scaled4/complex_maze_policy_utilities.csv\", header=None).transpose()\n",
    "Complex_maze_policy_10 = pd.read_csv(\"complex_maze/scaled10/complex_maze_policy_utilities.csv\", header=None).transpose()"
   ]
  },
  {
   "cell_type": "code",
   "execution_count": null,
   "metadata": {},
   "outputs": [],
   "source": [
    "plot_dict = {   0 : (\"c_0.01 (Value Iteration)\", c_001),\n",
    "                1 : (\"c_0.1 (Value Iteration)\", c_01),\n",
    "                2 : (\"c_1 (Value Iteration)\", c_1),\n",
    "                3 : (\"c_5 (Value Iteration)\", c_5), \n",
    "                4 : (\"c_10 (Value Iteration)\", c_10),\n",
    "                5 : (\"c_20 (Value Iteration)\", c_20),\n",
    "                6 : (\"c_40 (Value Iteration)\", c_40),\n",
    "                7 : (\"c_80 (Value Iteration)\", c_80)\n",
    "            }"
   ]
  },
  {
   "cell_type": "code",
   "execution_count": null,
   "metadata": {},
   "outputs": [],
   "source": [
    "# %pip install ipykernel\n",
    "# %pip install --upgrade nbformat"
   ]
  },
  {
   "cell_type": "code",
   "execution_count": null,
   "metadata": {
    "scrolled": true
   },
   "outputs": [],
   "source": [
    "for i, (k, v) in enumerate(plot_dict.items()):\n",
    "    fig = go.Figure()\n",
    "    for state_no in v[1].columns:\n",
    "        fig.add_trace(go.Scatter(\n",
    "            name=\"State \" + str(state_no),\n",
    "            x=v[1].index,\n",
    "            y=v[1][state_no],\n",
    "            mode=\"lines\",\n",
    "            showlegend=True))\n",
    "    fig.update_layout(title={'text': v[0],\n",
    "                             'y':0.9,\n",
    "                             'x':0.45,\n",
    "                             'xanchor': 'center',\n",
    "                             'yanchor': 'top'},\n",
    "                      xaxis_title=\"Number of Iterations\",\n",
    "                      yaxis_title=\"Utilitities\")\n",
    "    fig.show()\n",
    "    fig.to_html()"
   ]
  },
  {
   "cell_type": "code",
   "execution_count": null,
   "metadata": {},
   "outputs": [],
   "source": [
    "plot_dict = {   0 : (\"k_1 (Policy Iteration)\", k_1),\n",
    "                1 : (\"k_5 (Policy Iteration)\", k_5),\n",
    "                2 : (\"k_10 (Policy Iteration)\", k_10),\n",
    "                3 : (\"k_20 (Policy Iteration)\", k_20), \n",
    "                4 : (\"k_30 (Policy Iteration)\", k_30),\n",
    "                5 : (\"k_40 (Policy Iteration)\", k_40),\n",
    "                6 : (\"k_50 (Policy Iteration)\", k_50),\n",
    "                7 : (\"k_80 (Policy Iteration)\", k_80)\n",
    "            }"
   ]
  },
  {
   "cell_type": "code",
   "execution_count": null,
   "metadata": {},
   "outputs": [],
   "source": [
    "for i, (k, v) in enumerate(plot_dict.items()):\n",
    "    fig = go.Figure()\n",
    "    for state_no in v[1].columns:\n",
    "        fig.add_trace(go.Scatter(\n",
    "            name=\"State \" + str(state_no),\n",
    "            x=v[1].index,\n",
    "            y=v[1][state_no],\n",
    "            mode=\"lines\",\n",
    "            showlegend=True))\n",
    "    fig.update_layout(title={'text': v[0],\n",
    "                             'y':0.9,\n",
    "                             'x':0.45,\n",
    "                             'xanchor': 'center',\n",
    "                             'yanchor': 'top'},\n",
    "                      xaxis_title=\"Number of Iterations\",\n",
    "                      yaxis_title=\"Utilitities\")\n",
    "    fig.show()\n",
    "    fig.to_html()"
   ]
  },
  {
   "cell_type": "code",
   "execution_count": null,
   "metadata": {},
   "outputs": [],
   "source": [
    "plot_dict = {   0 : (\"Scale 2 (Complex Maze Value Iteration)\", Complex_maze_value_2),\n",
    "                1 : (\"Scale 2 (Complex Maze Policy Iteration)\", Complex_maze_policy_2),\n",
    "                2 : (\"Scale 4 (Complex Maze Value Iteration)\", Complex_maze_value_4),\n",
    "                3 : (\"Scale 4 (Complex Maze Policy Iteration)\", Complex_maze_policy_4), \n",
    "                4 : (\"Scale 10 (Complex Maze Value Iteration)\", Complex_maze_value_10),\n",
    "                5 : (\"Scale 10 (Complex Maze Policy Iteration)\", Complex_maze_policy_10)\n",
    "            }"
   ]
  },
  {
   "cell_type": "code",
   "execution_count": null,
   "metadata": {
    "scrolled": true
   },
   "outputs": [],
   "source": [
    "for i, (k, v) in enumerate(plot_dict.items()):\n",
    "    fig = go.Figure()\n",
    "    for state_no in v[1].columns:\n",
    "        fig.add_trace(go.Scatter(\n",
    "            name=\"State \" + str(state_no),\n",
    "            x=v[1].index,\n",
    "            y=v[1][state_no],\n",
    "            mode=\"lines\",\n",
    "            showlegend=True))\n",
    "    fig.update_layout(title={'text': v[0],\n",
    "                             'y':0.9,\n",
    "                             'x':0.45,\n",
    "                             'xanchor': 'center',\n",
    "                             'yanchor': 'top'},\n",
    "                      xaxis_title=\"Number of Iterations\",\n",
    "                      yaxis_title=\"Utilitities\")\n",
    "    fig.show()\n",
    "    fig.to_html()"
   ]
  },
  {
   "cell_type": "code",
   "execution_count": null,
   "metadata": {},
   "outputs": [],
   "source": []
  }
 ],
 "metadata": {
  "kernelspec": {
   "display_name": "Python 3 (ipykernel)",
   "language": "python",
   "name": "python3"
  },
  "language_info": {
   "codemirror_mode": {
    "name": "ipython",
    "version": 3
   },
   "file_extension": ".py",
   "mimetype": "text/x-python",
   "name": "python",
   "nbconvert_exporter": "python",
   "pygments_lexer": "ipython3",
   "version": "3.8.5"
  },
  "vscode": {
   "interpreter": {
    "hash": "d8d7167265a4c08667353880ebf90e89aba4e189a3b5f267392e11f499c20f80"
   }
  }
 },
 "nbformat": 4,
 "nbformat_minor": 2
}
